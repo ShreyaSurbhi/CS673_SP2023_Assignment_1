{
  "nbformat": 4,
  "nbformat_minor": 0,
  "metadata": {
    "colab": {
      "provenance": []
    },
    "kernelspec": {
      "name": "python3",
      "display_name": "Python 3"
    },
    "language_info": {
      "name": "python"
    }
  },
  "cells": [
    {
      "cell_type": "markdown",
      "source": [
        "2 . Write a program that prints 'Hello World' to the screen"
      ],
      "metadata": {
        "id": "Ei623x66aPus"
      }
    },
    {
      "cell_type": "code",
      "execution_count": 21,
      "metadata": {
        "colab": {
          "base_uri": "https://localhost:8080/"
        },
        "id": "3sT8BDkhaORo",
        "outputId": "28339e3c-7e7c-486d-cdfe-71136d6270c3"
      },
      "outputs": [
        {
          "output_type": "stream",
          "name": "stdout",
          "text": [
            "Hello World\n"
          ]
        }
      ],
      "source": [
        "class helloWorld:\n",
        "    def __init__(self):\n",
        "        self.message = \"Hello World\"\n",
        "\n",
        "    def printMessage(self):\n",
        "        print(self.message)\n",
        "\n",
        "helloWorld = helloWorld()\n",
        "helloWorld.printMessage()"
      ]
    },
    {
      "cell_type": "markdown",
      "source": [
        "3. Write a program that prints a multiplication table for numbers upto 12"
      ],
      "metadata": {
        "id": "C83LbvhKaUu_"
      }
    },
    {
      "cell_type": "code",
      "source": [
        "class multiplicationTable:\n",
        "    def __init__(self, n):\n",
        "        self.n = n\n",
        "\n",
        "    def __str__(self):\n",
        "        table = []\n",
        "        for i in range(1, self.n + 1):\n",
        "            rows = []\n",
        "            for j in range(1, self.n + 1):\n",
        "                rows.append(i * j)\n",
        "            table.append(rows)\n",
        "        maxWidth = len(str(table[-1][-1]))\n",
        "        tableStr = ''\n",
        "        for rows in table:\n",
        "            rowStr = ' '.join([str(num).rjust(maxWidth) for num in rows])\n",
        "            tableStr += rowStr + '\\n'\n",
        "        return tableStr\n",
        "\n",
        "table = multiplicationTable(12)\n",
        "print(table)"
      ],
      "metadata": {
        "colab": {
          "base_uri": "https://localhost:8080/"
        },
        "id": "2NX8EegsaWzY",
        "outputId": "102527ea-8c66-4fbb-aa2b-ad129554fe00"
      },
      "execution_count": 19,
      "outputs": [
        {
          "output_type": "stream",
          "name": "stdout",
          "text": [
            "  1   2   3   4   5   6   7   8   9  10  11  12\n",
            "  2   4   6   8  10  12  14  16  18  20  22  24\n",
            "  3   6   9  12  15  18  21  24  27  30  33  36\n",
            "  4   8  12  16  20  24  28  32  36  40  44  48\n",
            "  5  10  15  20  25  30  35  40  45  50  55  60\n",
            "  6  12  18  24  30  36  42  48  54  60  66  72\n",
            "  7  14  21  28  35  42  49  56  63  70  77  84\n",
            "  8  16  24  32  40  48  56  64  72  80  88  96\n",
            "  9  18  27  36  45  54  63  72  81  90  99 108\n",
            " 10  20  30  40  50  60  70  80  90 100 110 120\n",
            " 11  22  33  44  55  66  77  88  99 110 121 132\n",
            " 12  24  36  48  60  72  84  96 108 120 132 144\n",
            "\n"
          ]
        }
      ]
    },
    {
      "cell_type": "markdown",
      "source": [
        "4.Write a function that tests wheather a string is a palindrome and test it in your program"
      ],
      "metadata": {
        "id": "4iK7slCmaZSH"
      }
    },
    {
      "cell_type": "code",
      "source": [
        "def is_palindrome(string):\n",
        "    return string == string[::-1]\n",
        "\n",
        "test_cases = [\"kayak\", \"donkey\", \"wow\", \"shreya\"]\n",
        "for test_case in test_cases:\n",
        "    result = is_palindrome(test_case)\n",
        "    print(f'{test_case}: {\"is a palindrome\" if result else \"is not a palindrome\"}')"
      ],
      "metadata": {
        "colab": {
          "base_uri": "https://localhost:8080/"
        },
        "id": "r-p_eaappCMO",
        "outputId": "e3deb6bd-84ec-4302-94fe-23c0a6303b6f"
      },
      "execution_count": 13,
      "outputs": [
        {
          "output_type": "stream",
          "name": "stdout",
          "text": [
            "kayak: is a palindrome\n",
            "donkey: is not a palindrome\n",
            "wow: is a palindrome\n",
            "shreya: is not a palindrome\n"
          ]
        }
      ]
    },
    {
      "cell_type": "markdown",
      "source": [
        "5.Write a function that combines two lists by alternatingly taking elements e.g[a,b,c],[1,2,3] ->[a,1,b,2,c,3] and test it in your program"
      ],
      "metadata": {
        "id": "f4itSXL4addI"
      }
    },
    {
      "cell_type": "code",
      "source": [
        "def combine_lists(list1, list2):\n",
        "    result = []\n",
        "    for x, y in zip(list1, list2):\n",
        "        result.extend([x, y])\n",
        "    return result\n",
        "\n",
        "list1 = ['a', 'b', 'c']\n",
        "list2 = [1, 2, 3]\n",
        "result = combine_lists(list1, list2)\n",
        "print(result)"
      ],
      "metadata": {
        "colab": {
          "base_uri": "https://localhost:8080/"
        },
        "id": "AqNqF_ZDpQtZ",
        "outputId": "44be5b2e-24e1-4a62-d6b6-c5ee9c54e166"
      },
      "execution_count": 5,
      "outputs": [
        {
          "output_type": "stream",
          "name": "stdout",
          "text": [
            "['a', 1, 'b', 2, 'c', 3]\n"
          ]
        }
      ]
    },
    {
      "cell_type": "markdown",
      "source": [
        "6.Write a function that computes the list of the first 100 Fibonacci numbers.The first two Fibonacci numbers are 1 and 1.The n+1-st Fibonacci number can be computed by adding the nth and the n-1th Fibonacci number.The first few are therefore 1,1,1+1 = 2,1+2 = 3,2+3 = 5,3+5 = 8.Test it in your program."
      ],
      "metadata": {
        "id": "bi3KT0FnalIE"
      }
    },
    {
      "cell_type": "code",
      "source": [
        "def fibonacci(n):\n",
        "    result = [1, 1]\n",
        "    for i in range(2, n):\n",
        "        result.append(result[-1] + result[-2])\n",
        "    return result\n",
        "\n",
        "result = fibonacci(100)\n",
        "print(result)"
      ],
      "metadata": {
        "colab": {
          "base_uri": "https://localhost:8080/"
        },
        "id": "PMZP3i_5pwLV",
        "outputId": "28b875b4-8586-47a3-c595-222380bf387c"
      },
      "execution_count": 4,
      "outputs": [
        {
          "output_type": "stream",
          "name": "stdout",
          "text": [
            "[1, 1, 2, 3, 5, 8, 13, 21, 34, 55, 89, 144, 233, 377, 610, 987, 1597, 2584, 4181, 6765, 10946, 17711, 28657, 46368, 75025, 121393, 196418, 317811, 514229, 832040, 1346269, 2178309, 3524578, 5702887, 9227465, 14930352, 24157817, 39088169, 63245986, 102334155, 165580141, 267914296, 433494437, 701408733, 1134903170, 1836311903, 2971215073, 4807526976, 7778742049, 12586269025, 20365011074, 32951280099, 53316291173, 86267571272, 139583862445, 225851433717, 365435296162, 591286729879, 956722026041, 1548008755920, 2504730781961, 4052739537881, 6557470319842, 10610209857723, 17167680177565, 27777890035288, 44945570212853, 72723460248141, 117669030460994, 190392490709135, 308061521170129, 498454011879264, 806515533049393, 1304969544928657, 2111485077978050, 3416454622906707, 5527939700884757, 8944394323791464, 14472334024676221, 23416728348467685, 37889062373143906, 61305790721611591, 99194853094755497, 160500643816367088, 259695496911122585, 420196140727489673, 679891637638612258, 1100087778366101931, 1779979416004714189, 2880067194370816120, 4660046610375530309, 7540113804746346429, 12200160415121876738, 19740274219868223167, 31940434634990099905, 51680708854858323072, 83621143489848422977, 135301852344706746049, 218922995834555169026, 354224848179261915075]\n"
          ]
        }
      ]
    },
    {
      "cell_type": "markdown",
      "source": [
        "7.Write a function that determines if a given year is a leap year.Test it in your program"
      ],
      "metadata": {
        "id": "tftBQhhYaowf"
      }
    },
    {
      "cell_type": "code",
      "source": [
        "def is_leap_year(year):\n",
        "    return year % 4 == 0 and (year % 100 != 0 or year % 400 == 0)\n",
        "\n",
        "test_cases = [2000, 2004, 1900, 1600, 1700, 2021]\n",
        "for test_case in test_cases:\n",
        "    result = is_leap_year(test_case)\n",
        "    print(f\"{test_case}: {result}\")\n"
      ],
      "metadata": {
        "colab": {
          "base_uri": "https://localhost:8080/"
        },
        "id": "0Ahgnqxvp4zq",
        "outputId": "7628f295-1a2a-4e98-b24f-fad9ae02388f"
      },
      "execution_count": 2,
      "outputs": [
        {
          "output_type": "stream",
          "name": "stdout",
          "text": [
            "2000: True\n",
            "2004: True\n",
            "1900: False\n",
            "1600: True\n",
            "1700: False\n",
            "2021: False\n"
          ]
        }
      ]
    }
  ]
}